{
 "cells": [
  {
   "cell_type": "code",
   "execution_count": 1,
   "metadata": {},
   "outputs": [],
   "source": [
    "import numpy as np\n",
    "import pandas as pd\n",
    "import matplotlib.pyplot as plt\n",
    "from geopy.distance import vincenty"
   ]
  },
  {
   "cell_type": "code",
   "execution_count": 2,
   "metadata": {
    "collapsed": true
   },
   "outputs": [],
   "source": [
    "#extracts lat/long from Location 1 column\n",
    "def findCoords(s):\n",
    "    if s.find(\"(\") == -1:\n",
    "        print('help')\n",
    "        return s\n",
    "    return s[s.find(\"(\")+1:s.find(\")\")]\n",
    "\n",
    "#convert string in Location 1 column into x,y array\n",
    "#if we wanna use tuple we can do that too\n",
    "def strToCoord(s):\n",
    "    coords = list(map(float,s.split(',')))\n",
    "    #coords = tuple(map(float,test.split(',')))\n",
    "    return coords"
   ]
  },
  {
   "cell_type": "code",
   "execution_count": 3,
   "metadata": {
    "collapsed": true
   },
   "outputs": [],
   "source": [
    "df = pd.read_csv('Parks.csv')\n",
    "\n",
    "df = df.drop(df.columns[[3,4,5,11]], axis=1)\n",
    "df = df[1:]\n",
    "df = df[pd.notnull(df['Location 1'])]\n",
    "df['Location 1'][78] = df['Location 1'][78][13:]\n",
    "df['Location 1'] = df['Location 1'].apply(findCoords)"
   ]
  },
  {
   "cell_type": "code",
   "execution_count": 4,
   "metadata": {},
   "outputs": [],
   "source": [
    "#make coordinates for plotting!!!\n",
    "coords = []\n",
    "for row in df.itertuples():\n",
    "    coords.append(strToCoord(row._8))\n",
    "coords = np.asarray(coords)"
   ]
  },
  {
   "cell_type": "code",
   "execution_count": 5,
   "metadata": {},
   "outputs": [
    {
     "data": {
      "image/png": "[encoded data removed]",
      "text/plain": [
       "<matplotlib.figure.Figure at 0x1dbf196c2e8>"
      ]
     },
     "metadata": {},
     "output_type": "display_data"
    }
   ],
   "source": [
    "#scatter matrix\n",
    "plt.scatter(coords.T[0],coords.T[1])\n",
    "plt.show()"
   ]
  },
  {
   "cell_type": "code",
   "execution_count": 6,
   "metadata": {},
   "outputs": [
    {
     "name": "stdout",
     "output_type": "stream",
     "text": [
      "30 37.88160218 -119.85076005\n",
      "170 37.62439438 -122.48189132\n",
      "200\n"
     ]
    }
   ],
   "source": [
    "#Take out outliers\n",
    "idx = 0\n",
    "new_coords = []\n",
    "for i,j in coords:\n",
    "    if i < 37.65 or j > -120:\n",
    "        print(idx,i,j)\n",
    "    else:\n",
    "        new_coords.append([i,j])\n",
    "    idx += 1\n",
    "new_coords = np.asarray(new_coords)\n",
    "print(len(new_coords))"
   ]
  },
  {
   "cell_type": "code",
   "execution_count": 7,
   "metadata": {},
   "outputs": [
    {
     "data": {
      "image/png": "[encoded data removed]",
      "text/plain": [
       "<matplotlib.figure.Figure at 0x1dbf19a1b70>"
      ]
     },
     "metadata": {},
     "output_type": "display_data"
    }
   ],
   "source": [
    "plt.scatter(new_coords.T[0],new_coords.T[1])\n",
    "plt.show()"
   ]
  },
  {
   "cell_type": "code",
   "execution_count": 8,
   "metadata": {
    "collapsed": true
   },
   "outputs": [],
   "source": [
    "def getYear(s):\n",
    "    if s.find(\"Y\") == -1 or s.find(\"Q\") == -1:\n",
    "        print('help')\n",
    "        return s\n",
    "    return s[s.find(\"Y\")+1:s.find(\"Q\")]"
   ]
  },
  {
   "cell_type": "code",
   "execution_count": 9,
   "metadata": {},
   "outputs": [],
   "source": [
    "df2 = pd.read_csv('Scores.csv')\n",
    "df2 = df2.dropna()\n",
    "df_all = pd.read_csv('Scores.csv')\n",
    "df2['FQ'] = df2['FQ'].apply(getYear)\n",
    "#take years 2012-2014\n",
    "df2 = df2[(df2['FQ'] == '12') | (df2['FQ'] == '13') | (df2['FQ'] == '14')]"
   ]
  },
  {
   "cell_type": "code",
   "execution_count": 10,
   "metadata": {},
   "outputs": [],
   "source": [
    "df12 = df2[df2['FQ'] == '12']\n",
    "df13 = df2[df2['FQ'] == '13']\n",
    "df14 = df2[df2['FQ'] == '14']"
   ]
  },
  {
   "cell_type": "code",
   "execution_count": 11,
   "metadata": {
    "collapsed": true
   },
   "outputs": [],
   "source": [
    "means_12 = dict()\n",
    "for key in np.unique(np.array(df12['ParkID'])):\n",
    "    means_12[key] = np.mean(np.array(df12[df12['ParkID'] == key]['Score']))\n",
    "means_13 = dict()\n",
    "for key in np.unique(np.array(df13['ParkID'])):\n",
    "    means_13[key] = np.mean(np.array(df13[df13['ParkID'] == key]['Score']))\n",
    "means_14 = dict()\n",
    "for key in np.unique(np.array(df14['ParkID'])):\n",
    "    means_14[key] = np.mean(np.array(df14[df14['ParkID'] == key]['Score']))"
   ]
  },
  {
   "cell_type": "code",
   "execution_count": 12,
   "metadata": {},
   "outputs": [],
   "source": [
    "rows_list = []\n",
    "for row in np.unique(df2['ParkID']):\n",
    "    #print(row in df2['ParkID'], row in df['ParkID'])\n",
    "    if row in list(df['ParkID']):\n",
    "        dict1 = {}\n",
    "        dict1['Park'] = list(df2[df2['ParkID'] == row]['Park'])[0]\n",
    "        dict1['ParkID'] = row\n",
    "        #print(row)\n",
    "        dict1['Location'] = list(df[df['ParkID'] == int(row)]['Location 1'])[0]\n",
    "        if row in means_12:\n",
    "            dict1['mean_score_12'] = means_12[row]\n",
    "        if row in means_13:\n",
    "            dict1['mean_score_13'] = means_13[row]\n",
    "        if row in means_14:\n",
    "            dict1['mean_score_14'] = means_14[row]\n",
    "        rows_list.append(dict1)\n",
    "df_parks = pd.DataFrame(rows_list)"
   ]
  },
  {
   "cell_type": "code",
   "execution_count": 13,
   "metadata": {},
   "outputs": [],
   "source": [
    "#df_parks[pd.isnull(df_test['mean_score_14'])]\n",
    "#df_parks"
   ]
  },
  {
   "cell_type": "code",
   "execution_count": 162,
   "metadata": {},
   "outputs": [],
   "source": [
    "np.save('Neighborhoods',np.array(nbrhoods))"
   ]
  },
  {
   "cell_type": "code",
   "execution_count": 16,
   "metadata": {},
   "outputs": [
    {
     "data": {
      "text/plain": [
       "155"
      ]
     },
     "execution_count": 16,
     "metadata": {},
     "output_type": "execute_result"
    }
   ],
   "source": [
    "coords = []\n",
    "for row in df_parks.itertuples():\n",
    "    coords.append(strToCoord(row.Location))\n",
    "coords = np.asarray(coords)\n",
    "len(coords)"
   ]
  },
  {
   "cell_type": "code",
   "execution_count": 17,
   "metadata": {},
   "outputs": [
    {
     "data": {
      "image/png": "[encoded data removed]",
      "text/plain": [
       "<matplotlib.figure.Figure at 0x1dbf2f07e10>"
      ]
     },
     "metadata": {},
     "output_type": "display_data"
    }
   ],
   "source": [
    "plt.scatter(coords.T[0],coords.T[1])\n",
    "plt.show()"
   ]
  },
  {
   "cell_type": "code",
   "execution_count": 18,
   "metadata": {},
   "outputs": [
    {
     "name": "stdout",
     "output_type": "stream",
     "text": [
      "155\n"
     ]
    }
   ],
   "source": [
    "print(len(coords))"
   ]
  },
  {
   "cell_type": "code",
   "execution_count": 19,
   "metadata": {
    "collapsed": true
   },
   "outputs": [],
   "source": [
    "#CRIME DATA"
   ]
  },
  {
   "cell_type": "code",
   "execution_count": 20,
   "metadata": {
    "collapsed": true
   },
   "outputs": [],
   "source": [
    "def getCYear(s):\n",
    "    year = s[8:10]\n",
    "    #print(year)\n",
    "    return year"
   ]
  },
  {
   "cell_type": "code",
   "execution_count": 21,
   "metadata": {
    "collapsed": true
   },
   "outputs": [],
   "source": [
    "####READING INTO CRIME DATA\n",
    "crime_df = pd.read_csv('Police_Department_Incidents.csv')\n",
    "crime_df = crime_df.dropna()\n",
    "#print(list(crime_df.columns.values))\n",
    "crime_df = crime_df.drop(['IncidntNum', 'Descript','DayOfWeek','Time','Resolution','Address','PdId'], axis=1)\n",
    "#print(list(crime_df.columns.values))\n",
    "crime_df[\"Date\"] = crime_df[\"Date\"].apply(getCYear)\n",
    "crime_df['Location'] = crime_df['Location'].apply(lambda s:s[1:len(s)-1])\n",
    "crime_df = crime_df[(crime_df['Date']==\"12\") | (crime_df['Date']==\"13\") | (crime_df['Date']==\"14\")]\n",
    "#print(crime_df)"
   ]
  },
  {
   "cell_type": "code",
   "execution_count": 22,
   "metadata": {},
   "outputs": [
    {
     "data": {
      "image/png": "[encoded data removed]",
      "text/plain": [
       "<matplotlib.figure.Figure at 0x1dbf2f5b668>"
      ]
     },
     "metadata": {},
     "output_type": "display_data"
    }
   ],
   "source": [
    "#scatter matrix\n",
    "###What is our x and what is our y?????\n",
    "plt.scatter(crime_df['Y'],crime_df['X'])\n",
    "plt.scatter(coords.T[0],coords.T[1])\n",
    "plt.show()"
   ]
  },
  {
   "cell_type": "code",
   "execution_count": 23,
   "metadata": {
    "collapsed": true
   },
   "outputs": [],
   "source": [
    "#cluster crime activity?"
   ]
  },
  {
   "cell_type": "code",
   "execution_count": 24,
   "metadata": {},
   "outputs": [],
   "source": [
    "crime_locations = []\n",
    "for i in crime_df['Location']:\n",
    "    crime_locations.append(strToCoord(i))"
   ]
  },
  {
   "cell_type": "code",
   "execution_count": 25,
   "metadata": {
    "collapsed": true
   },
   "outputs": [],
   "source": [
    "def nearest(point,data):\n",
    "    min_dist = 999999\n",
    "    for val in data:\n",
    "        temp = vincenty(point,val).feet\n",
    "        if temp < min_dist:\n",
    "            min_dist = temp\n",
    "    return min_dist\n",
    "\n",
    "def kNearestNeighbor(point, data, k=1):\n",
    "    dist_array = []\n",
    "    for val in data:\n",
    "        dist_array.append(np.linalg.norm(point-val))\n",
    "    enum_array = sorted(enumerate(dist_array),key=lambda i:i[1])\n",
    "    indices = []\n",
    "    for i in range(k):\n",
    "        indices.append(enum_array[i][0])\n",
    "    return indices\n",
    "\n",
    "#units in feet\n",
    "def numCrimesInRadius(point,data,rad=50):\n",
    "    count = 0\n",
    "    for val in data:\n",
    "        if vincenty(point,val).feet <= 50:\n",
    "            count += 1\n",
    "    return count"
   ]
  },
  {
   "cell_type": "code",
   "execution_count": 26,
   "metadata": {},
   "outputs": [],
   "source": [
    "#takes long time to run, just use:\n",
    "nbrhoods = np.load('Neighborhoods.npy')\n",
    "\n",
    "\n",
    "# nbrhoods = []\n",
    "# for row in df_parks.itertuples():\n",
    "#     coord = strToCoord(row.Location)\n",
    "#     idx = kNearestNeighbor(np.array(coord),np.array(crime_locations))[0]\n",
    "#     temp = str(crime_locations[idx])\n",
    "#     temp = temp[1:len(temp)-1]\n",
    "#     nbrhd = crime_df[crime_df['Location'] == temp]['PdDistrict'].value_counts().index[0]\n",
    "#     nbrhoods.append(nbrhd)\n"
   ]
  },
  {
   "cell_type": "code",
   "execution_count": 178,
   "metadata": {},
   "outputs": [],
   "source": [
    "# crimes_in_50_radius = []\n",
    "# for row in df_parks.itertuples():\n",
    "#     coord = strToCoord(row.Location)\n",
    "#     count = numCrimesInRadius(np.array(coord),np.array(crime_locations))\n",
    "#     crimes_in_50_radius.append(count)\n",
    "    "
   ]
  },
  {
   "cell_type": "code",
   "execution_count": 27,
   "metadata": {},
   "outputs": [],
   "source": [
    "df_parks['Neighborhood'] = pd.Series(np.array(nbrhoods), index=df_parks.index)"
   ]
  },
  {
   "cell_type": "code",
   "execution_count": null,
   "metadata": {},
   "outputs": [],
   "source": [
    "nearests = []\n",
    "for idx,coord in enumerate(crime_locs):\n",
    "    nearests.append(nearest(strToCoord(crime_df['Location'].value_counts().index[idx]),coords))"
   ]
  },
  {
   "cell_type": "code",
   "execution_count": 34,
   "metadata": {},
   "outputs": [
    {
     "data": {
      "text/plain": [
       "937.110532567608"
      ]
     },
     "execution_count": 34,
     "metadata": {},
     "output_type": "execute_result"
    }
   ],
   "source": [
    "nearest(strToCoord(crime_df['Location'].value_counts().index[0]),coords)"
   ]
  },
  {
   "cell_type": "code",
   "execution_count": 40,
   "metadata": {},
   "outputs": [],
   "source": [
    "crime_locs = list(crime_df['Location'].value_counts().index)"
   ]
  },
  {
   "cell_type": "code",
   "execution_count": 150,
   "metadata": {},
   "outputs": [
    {
     "data": {
      "text/plain": [
       "'INGLESIDE'"
      ]
     },
     "execution_count": 150,
     "metadata": {},
     "output_type": "execute_result"
    }
   ],
   "source": [
    "cord = 162615\n",
    "temp=str(crime_locations[cord])\n",
    "temp=temp[1:len(temp)-1]\n",
    "crime_df[crime_df['Location'] == temp]['PdDistrict'].value_counts().index[0]"
   ]
  },
  {
   "cell_type": "code",
   "execution_count": 109,
   "metadata": {},
   "outputs": [],
   "source": [
    "# _sum = 0\n",
    "# counter = 0\n",
    "# for crime in crime_locations:\n",
    "#     if counter%1000 == 0:\n",
    "#         print(counter)\n",
    "#     _sum += nearest(crime,coords)\n",
    "#     counter += 1\n",
    "# _sum/len(crime_locations)"
   ]
  },
  {
   "cell_type": "code",
   "execution_count": null,
   "metadata": {
    "collapsed": true
   },
   "outputs": [],
   "source": []
  }
 ],
 "metadata": {
  "anaconda-cloud": {},
  "kernelspec": {
   "display_name": "Python 3",
   "language": "python",
   "name": "python3"
  },
  "language_info": {
   "codemirror_mode": {
    "name": "ipython",
    "version": 3
   },
   "file_extension": ".py",
   "mimetype": "text/x-python",
   "name": "python",
   "nbconvert_exporter": "python",
   "pygments_lexer": "ipython3",
   "version": "3.6.1"
  }
 },
 "nbformat": 4,
 "nbformat_minor": 1
}
