{
 "cells": [
  {
   "cell_type": "markdown",
   "metadata": {},
   "source": [
    "# COGS 108 - Assignment 4: Project Proposal"
   ]
  },
  {
   "cell_type": "markdown",
   "metadata": {},
   "source": [
    "## Important\n",
    "\n",
    "- Make sure all group member (3-5 people) are listed in the group members section.\n",
    "- ONE, and only one, member of your group should upload this notebook to TritonED. \n",
    "- Each member of the group will receive the same grade on this assignment. \n",
    "- Keep the file name the same: submit the file 'A4_ProjectProposal.ipynb'"
   ]
  },
  {
   "cell_type": "markdown",
   "metadata": {},
   "source": [
    "## Overview"
   ]
  },
  {
   "cell_type": "markdown",
   "metadata": {},
   "source": [
    "Read the project description, and detailed instructions for this assignment, in the 'A4_ProjectOutlineAndProposal' pdf."
   ]
  },
  {
   "cell_type": "markdown",
   "metadata": {},
   "source": [
    "## Group Members: Fill in the Student ID's of each group member here\n",
    "- A11962307 Tyler Ly\n",
    "- A12202215 Reginald Wu\n",
    "- A12299775 Karen Ma\n",
    "- A11969225 Ho Tsun Matthew Ho\n",
    "- A12786685 Erika Morozumi"
   ]
  },
  {
   "cell_type": "markdown",
   "metadata": {},
   "source": [
    "### Research Question\n",
    "\n",
    "What is your research question? (1-2 sentences)"
   ]
  },
  {
   "cell_type": "markdown",
   "metadata": {},
   "source": [
    "How does the existence of public recreation areas correlate with crime rates in the surrounding area?"
   ]
  },
  {
   "cell_type": "markdown",
   "metadata": {},
   "source": [
    "### Hypothesis\n",
    "\n",
    "What is your prediction (2-3 sentences)"
   ]
  },
  {
   "cell_type": "markdown",
   "metadata": {},
   "source": [
    "We hypothesize that crime rates are negatively correlated with park scores. In addition, the amount of parks nearby is negatively correlated with crime rates. "
   ]
  },
  {
   "cell_type": "markdown",
   "metadata": {},
   "source": [
    "### Dataset(s)\n",
    "\n",
    "What data will you use to answer your question? Describe the dataset in terms of number of observations, what kind of features it contains, etc. You must use at least one dataset containing at least approximately 1000 observations (if your data are smaller but you feel they are sufficient, email Prof. Voytek). You are welcome (and in fact recommended) to find multiple datasets! If you do so, describe each one, and briefly explain how you will combine them together. "
   ]
  },
  {
   "cell_type": "markdown",
   "metadata": {},
   "source": [
    "- Dataset Name: Park Scores 2005-2014\n",
    "- Link to the dataset:https://data.sfgov.org/Culture-and-Recreation/Park-Scores-2005-2014/fjq8-r8ws\n",
    "- Number of observations: 5495\n",
    "\n",
    "This dataset contains rows of parks and their respective scores from 0-1\n",
    "\n",
    "Will be used to correlate quality of parks with police incident rates."
   ]
  },
  {
   "cell_type": "markdown",
   "metadata": {},
   "source": [
    "- Dataset Name: Police Department Incidents\n",
    "- Link to the dataset: https://data.sfgov.org/Public-Safety/Police-Department-Incidents/tmnf-yvry\n",
    "- Number of observations: 2.06M\n",
    "\n",
    "This dataset contains rows of police incidents, with information ranging from type of incident, date and time, and location.\n",
    "\n",
    "Will be combined to correlate police incidents with locations of parks."
   ]
  },
  {
   "cell_type": "markdown",
   "metadata": {},
   "source": [
    "- Dataset Name: Recreation & Park Department Park Info Dataset\n",
    "- Link to the dataset: https://data.sfgov.org/Culture-and-Recreation/Recreation-Park-Department-Park-Info-Dataset/z76i-7s65\n",
    "- Number of observations: 230\n",
    "\n",
    "This dataset contains rows of all parks with type, location, and size.\n",
    "\n",
    "Will be combined with park scores over the years and police incidents around the area over the years."
   ]
  },
  {
   "cell_type": "markdown",
   "metadata": {},
   "source": [
    "### Background & Prior Work\n",
    "\n",
    "Why is this question of interest, what background information led you to your hypothesis, and why is this important?\n",
    "\n",
    "Find some relevant prior work, and reference them. Even if you think you have a totally novel question, find the most similar prior work you can, and discuss how it relates to your project. \n",
    "\n",
    "References can be research publications, but they need not be: blogs, github repositories, company websites, etc., are viable references if they are relevant to your project.\n",
    "\n",
    "(2-3 paragraphs, including at least 2 references)"
   ]
  },
  {
   "cell_type": "markdown",
   "metadata": {},
   "source": [
    "Looking at previous new articles surrounding the subject of parks and criminal activity, we can see there are two stances being taken. On the one hand, people consider the existence of vegetation as a “screen for criminal activity”. In an article online by the University of Washington, College of Environment--there is less minor crime in places with natural landscapes. Public housing residents with more amounts of plant life have “25% fewer acts of domestic aggression...52% fewer total crimes”[1]. In addition, the existence of vegetation creates a calming atmosphere1.On the flip side, data from NYC parks showed a 23% increase in violent crimes in parks between the year 2015 and 2016. NYPD Police Commissioner Bill Bratton claims that this increase can be attributed to the large number of park visitors[2].One article in the New York Times believes that the data supports the lack of a positive correlation between crimes and parks. This claims that the belief that parks cause crimes is just a result of fear rising from an increase in violent crimes occurring in the daytime at parks[3]. \n",
    "    \n",
    "However, the maintenance of parks matters. The American Planning Association writes that “A well-maintained park or open space sends a message that someone cares about it...helps create a perception of safety[4].” This leads us to our hypothesis that the parks’ score, matters more than the existence of the park itself. Not only will the existence of parks be associated with lower levels of crime nearby, a well maintained park with a high park score will be associated with lower levels of crime nearby than a similarly green location with lower park scores.\n",
    "\n",
    "[1] https://depts.washington.edu/hhwb/Thm_Crime.html\n",
    "\n",
    "[2]http://www.nbcnewyork.com/news/local/Violent-Crime-on-the-Rise-in-NYC-Parks-389500602.html\n",
    "\n",
    "[3] https://www.nytimes.com/2016/08/16/opinion/the-shadow-of-crime-in-city-parks.html?_r=0\n",
    "\n",
    "[4] https://www.planning.org/cityparks/briefingpapers/saferneighborhoods.htm"
   ]
  },
  {
   "cell_type": "markdown",
   "metadata": {},
   "source": [
    "### Proposed Methods\n",
    "\n",
    "What methods will you use to analyze your data?\n",
    "\n",
    "- How 'clean' is the data? To the extent that it requires cleaning, how will you do so?\n",
    "- How will you analyze the data? Be as specific as you can. Briefly mention any pre-processing steps that are required for your methods (for example, checking data distributions and performing any transformations that may be required). Include a brief outline of how you will apply your chosen method(s). \n",
    "- What do you plan to report? Briefly mention any key visualizations you plan to create, and/or the kind of result you will be able to report that addresses your question (this could be, for example, the outcome of some statistical test(s), prediction error on a model, a model fit parameter, etc.).\n",
    "- Include a list of packages you expect to use for you project. If you plan to use packages we have not used in class, add a very brief description about them (a few words is sufficient). "
   ]
  },
  {
   "cell_type": "markdown",
   "metadata": {},
   "source": [
    "Each dataset contains various columns that will not be necessary for our research question. We will drop those columns to get rid of the excess data. Without the excess columns, the values are clean enough to use. We may need to separate crime rates by year in order to work with less data at a time. In addition, some parks do not have park scores so we may have to drop the rows based on their park ID. Park location format is also not always the same. Sometimes it is just coordinates and sometimes they have extraneous information. We will need to format that ourselves properly. Since our park data only ranges until 2014 and our police data goes to 2017, we will have to drop the rows that are past 2014. In addition, the the dating format for our park data and our police data is in a different format so we will have to loop through our data and make sure it is the same. \n",
    "\n",
    "First, we can graph and visualize the locations of crimes and parks. We can use a clustering algorithm to sort crime rates into clusters by location, and run a modified nearest-neighbors algorithm to find a correlation between the number of parks each cluster of incidents. After finding clusters of police incidents near parks, we can visualize how they change over the years along with how the park scores change.\n",
    "\n",
    "We will analyze the data by placing the data onto a scatter plot matrix following our clustering. We can plot each locations respective park score and number of crimes committed. To do this, we will have to look at the given location data and sort it into the larger districts given for the police data. Then we will calculate the pairwise correlations between all the variables. This will let us see if there is any correlation between our proposed variables. Looking at the scatterplot will give us a general idea of the correlation that may or may not exist. From there, we can create a polyfit line to better represent our findings. \n",
    "\n",
    "Our key visual will be the clustering visual of police incidents along with locations of parks. From our scatterplot matrix, we will also have the polyfit line which will show any correlation that does or does not exist. \n",
    "\n",
    "In terms of packages, we will use pandas to manipulate data frames and basic graphing., Numpy will let us do mathematical operations as necessary. We may also use sklearn to help us with our nearest-neighbors/clustering algorithm."
   ]
  },
  {
   "cell_type": "markdown",
   "metadata": {},
   "source": [
    "### Discussion\n",
    "\n",
    "What are the pitfalls and potential confounds of your data and/or methods? For example, how might biases in your data sources or analyses influence your interpretations? What will you do if you methods don't work and/or your hypotheses are wrong?\n"
   ]
  },
  {
   "cell_type": "markdown",
   "metadata": {},
   "source": [
    "Since the park score data is scored by the Recreation and Parks Department of San Francisco, this data is biased by their scoring algorithm. The scoring algorithm may or may not take into account crime rates in the area. If they do, we would have biased data. \n",
    "\n",
    "Our clustering methodology assumes that the locations of crimes in the dataset is the location where the crime was committed. This may not be the case. In addition, the location of the parks is just one latitude/longitude point. Although we do know the acreage of each park, this may not be representable in the visualization of the clusters.\n",
    "\n",
    "If we are unable to create a line of best fit through linear regression to correlate park scores with crime rates, we may have to instead find a specific location where crime rate seems to correlate more strongly, and conclude that only some park locations have a correlation with police incidents. \n",
    "\n",
    "It is possible that our hypothesis is incorrect since most data out there on this subject is focused on crime within the parks themselves whereas our hypotheses is related to crime surrounding parks. It is also possible that the correlation between parks and crime is too weak (if at all correlated) to produce a result that is clearly negative or positive. While unlikely, if this does happen we can conclude there is no correlation between the two.\n"
   ]
  },
  {
   "cell_type": "code",
   "execution_count": null,
   "metadata": {
    "collapsed": true
   },
   "outputs": [],
   "source": []
  }
 ],
 "metadata": {
  "anaconda-cloud": {},
  "kernelspec": {
   "display_name": "Python 3",
   "language": "python",
   "name": "python3"
  },
  "language_info": {
   "codemirror_mode": {
    "name": "ipython",
    "version": 3
   },
   "file_extension": ".py",
   "mimetype": "text/x-python",
   "name": "python",
   "nbconvert_exporter": "python",
   "pygments_lexer": "ipython3",
   "version": "3.6.1"
  }
 },
 "nbformat": 4,
 "nbformat_minor": 2
}
